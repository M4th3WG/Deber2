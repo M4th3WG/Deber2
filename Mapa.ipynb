{
 "cells": [
  {
   "cell_type": "code",
   "execution_count": 84,
   "id": "36c434e1",
   "metadata": {},
   "outputs": [],
   "source": [
    "import re\n",
    "import csv"
   ]
  },
  {
   "cell_type": "code",
   "execution_count": 85,
   "id": "72e55272",
   "metadata": {},
   "outputs": [],
   "source": [
    "with open ('Data/pubmed-embryogene-set.txt', encoding=\"utf=8\") as j:\n",
    "    ciencia = j.read()"
   ]
  },
  {
   "cell_type": "code",
   "execution_count": 86,
   "id": "910591db",
   "metadata": {},
   "outputs": [
    {
     "data": {
      "text/plain": [
       "37421673"
      ]
     },
     "execution_count": 86,
     "metadata": {},
     "output_type": "execute_result"
    }
   ],
   "source": [
    "len(ciencia)"
   ]
  },
  {
   "cell_type": "code",
   "execution_count": 87,
   "id": "2656fa1c",
   "metadata": {},
   "outputs": [
    {
     "name": "stdout",
     "output_type": "stream",
     "text": [
      "PMID- 32928629\n",
      "OWN - NLM\n",
      "STAT- MEDLINE\n",
      "DCOM- 20210707\n",
      "LR  - 20220102\n",
      "IS  - 0968-0004 (Print)\n",
      "IS  - 0968-0004 (Linking)\n",
      "VI  - 46\n",
      "IP  - 1\n",
      "DP  - 2021 Jan\n",
      "TI  - Hippo Signaling in Embryogenesis and Development.\n",
      "PG  - 51-63\n",
      "LID - S0968-0004(20)30205-X [pii]\n",
      "LID - 10.1016/j.tibs.2020.08.008 [doi]\n",
      "AB  - Hippo pathway components are structurally and functionally conserved and are notable \n",
      "      for their role in controlling organ size. More diverse functions of the Hippo \n",
      "      pathway have been recognized, including development, tissue homeostasis, wound \n",
      "      healing and regeneration, immunity, and tumorigenesis. During embryogenesis, \n",
      "      different signaling pathways are repeatedly and cooperatively activated, leading to \n",
      "      differential gene expression in specific developmental contexts. In this article, we \n",
      "      present an overview on the regulation and function of the Hippo pathway in mammalian \n",
      "      early development. We introduce the Hippo pathway components and major upstream \n",
      "      signals that act through this pathway to influence embryogenesis. We also discuss \n",
      "      the roles of Hippo pathway in tissue specification and organ development during \n",
      "      organogenesis.\n",
      "CI  - Copyright © 2020 Elsevier Ltd. All rights reserved.\n",
      "FAU - Wu, Zhengming\n",
      "AU  - Wu Z\n",
      "AD  - Department of Pharmacology and Moores Cancer Center, University of California San \n",
      "      Diego, La Jolla, CA 92093, USA.\n",
      "FAU - Guan, Kun-Liang\n",
      "AU  - Guan KL\n",
      "AD  - Department of Pharmacology and Moores Cancer Center, University of California San \n",
      "      Diego, La Jolla, CA 92093, USA. Electronic address: kuguan@ucsd.edu.\n",
      "LA  - eng\n",
      "GR  - R01 CA217642/CA/NCI NIH HHS/United States\n",
      "PT  - Journal Article\n",
      "PT  - Research Support, Non-U.S. Gov't\n",
      "PT  - Review\n",
      "DEP - 20200911\n",
      "TA  - Trends Biochem Sci\n",
      "JT  - Trends in biochemical sciences\n",
      "JID - 7610674\n",
      "RN  - EC 2.7.11.1 (Protein Serine-Threonine Kinases)\n",
      "SB  - IM\n",
      "MH  - Animals\n",
      "MH  - Embryonic Development/*physiology\n",
      "MH  - Hippo Signaling Pathway\n",
      "MH  - Humans\n",
      "MH  - Protein Serine-Threonine Kinases/*metabolism\n",
      "MH  - *Signal Transduction\n",
      "PMC - PMC7749079\n",
      "MID - NIHMS1622813\n",
      "OTO - NOTNLM\n",
      "OT  - *HIPPO\n",
      "OT  - *YAP/TAZ\n",
      "OT  - *early development\n",
      "OT  - *embryogenesis\n",
      "OT  - *stem cells\n",
      "COIS- Disclosure Statement K.-L.G. is a co-founder and has equity interest in Vivace \n",
      "      Therapeutics. The terms of this arrangement have been reviewed and approved by the \n",
      "      University of California, San Diego, in accordance with its conflict of interest \n",
      "      policies.\n",
      "EDAT- 2020/09/16 06:00\n",
      "MHDA- 2021/07/08 06:00\n",
      "CRDT- 2020/09/15 05:40\n",
      "PHST- 2020/04/24 00:00 [received]\n",
      "PHST- 2020/07/27 00:00 [revised]\n",
      "PHST- 2020/08/13 00:00 [accepted]\n",
      "PHST- 2020/09/16 06:00 [pubmed]\n",
      "PHST- 2021/07/08 06:00 [medline]\n",
      "PHST- 2020/09/15 05:40 [entrez]\n",
      "AID - S0968-0004(20)30205-X [pii]\n",
      "AID - 10.1016/j.tibs.2020.08.008 [doi]\n",
      "PST - ppublish\n",
      "SO  - Trends Biochem Sci. 2021 Jan;46(1):51-63. doi: 10.1016/j.tibs.2020.08.008. Epub 2020 \n",
      "      Sep 11.\n",
      "\n",
      "PMID- 33826908\n",
      "OWN - NLM\n",
      "STAT- MEDLINE\n",
      "DCOM- 20211020\n",
      "LR  - 20211020\n",
      "IS  - 1097-4172 (Electronic)\n",
      "IS  - 0092-8674 (Linking)\n",
      "VI  - 184\n",
      "IP  - 8\n",
      "DP  - 2021 Apr 15\n",
      "TI  - Bioelectric signaling: Reprogrammable circuits underlying embryogenesis, \n",
      "      regeneration, and cancer.\n",
      "PG  - 1971-1989\n",
      "LID - S0092-8674(21)00223-3 [pii]\n",
      "LID - 10.1016/j.cell.2021.02.034 [doi]\n",
      "AB  - How are individual cell behaviors coordinated toward invariant large-scale \n",
      "      anatomical outcomes in development and regeneration despite unpredictable \n",
      "      perturbations? Endogenous distributions of membrane potentials, produced by ion \n",
      "      channels and gap junctions, are present across all tissues. These bioelectrical \n",
      "      networks process morphogenetic information that controls gene expression, enabling \n",
      "      cell collectives to make decisions about large-scale growth and form. Recent \n",
      "      progress in the analysis and computational modeling of developmental bioelectric \n",
      "      circuits and channelopathies reveals how cellular collectives cooperate towar\n"
     ]
    }
   ],
   "source": [
    "print(ciencia [:4000])"
   ]
  },
  {
   "cell_type": "code",
   "execution_count": 88,
   "id": "d166ffe1",
   "metadata": {},
   "outputs": [],
   "source": [
    "#evito problemas de lectura y uso codigo para eso\n",
    "ciencia = re.sub(r'\\n\\s{6}',' ', ciencia)"
   ]
  },
  {
   "cell_type": "code",
   "execution_count": 89,
   "id": "16248c99",
   "metadata": {},
   "outputs": [
    {
     "name": "stdout",
     "output_type": "stream",
     "text": [
      "PMID- 32928629\n",
      "OWN - NLM\n",
      "STAT- MEDLINE\n",
      "DCOM- 20210707\n",
      "LR  - 20220102\n",
      "IS  - 0968-0004 (Print)\n",
      "IS  - 0968-0004 (Linking)\n",
      "VI  - 46\n",
      "IP  - 1\n",
      "DP  - 2021 Jan\n",
      "TI  - Hippo Signaling in Embryogenesis and Development.\n",
      "PG  - 51-63\n",
      "LID - S0968-0004(20)30205-X [pii]\n",
      "LID - 10.1016/j.tibs.2020.08.008 [doi]\n",
      "AB  - Hippo pathway components are structurally and functionally conserved and are notable  for their role in controlling organ size. More diverse functions of the Hippo  pathway have been recognized, including development, tissue homeostasis, wound  healing and regeneration, immunity, and tumorigenesis. During embryogenesis,  different signaling pathways are repeatedly and cooperatively activated, leading to  differential gene expression in specific developmental contexts. In this article, we  present an overview on the regulation and function of the Hippo pathway in mammalian  early development. We introduce the Hippo pathway components and major upstream  signals that act through this pathway to influence embryogenesis. We also discuss  the roles of Hippo pathway in tissue specification and organ development during  organogenesis.\n",
      "CI  - Copyright © 2020 Elsevier Ltd. All rights reserved.\n",
      "FAU - Wu, Zhengming\n",
      "AU  - Wu Z\n",
      "AD  - Department of Pharmacology and Moores Cancer Center, University of California San  Diego, La Jolla, CA 92093, USA.\n",
      "FAU - Guan, Kun-Liang\n",
      "AU  - Guan KL\n",
      "AD  - Department of Pharmacology and Moores Cancer Center, University of California San  Diego, La Jolla, CA 92093, USA. Electronic address: kuguan@ucsd.edu.\n",
      "LA  - eng\n",
      "GR  - R01 CA217642/CA/NCI NIH HHS/United States\n",
      "PT  - Journal Article\n",
      "PT  - Research Support, Non-U.S. Gov't\n",
      "PT  - Review\n",
      "DEP - 20200911\n",
      "TA  - Trends Biochem Sci\n",
      "JT  - Trends in biochemical sciences\n",
      "JID - 7610674\n",
      "RN  - EC 2.7.11.1 (Protein Serine-Threonine Kinases)\n",
      "SB  - IM\n",
      "MH  - Animals\n",
      "MH  - Embryonic Development/*physiology\n",
      "MH  - Hippo Signaling Pathway\n",
      "MH  - Humans\n",
      "MH  - Protein Serine-Threonine Kinases/*metabolism\n",
      "MH  - *Signal Transduction\n",
      "PMC - PMC7749079\n",
      "MID - NIHMS1622813\n",
      "OTO - NOTNLM\n",
      "OT  - *HIPPO\n",
      "OT  - *YAP/TAZ\n",
      "OT  - *early development\n",
      "OT  - *embryogenesis\n",
      "OT  - *stem cells\n",
      "COIS- Disclosure Statement K.-L.G. is a co-founder and has equity interest in Vivace  Therapeutics. The terms of this arrangement have been reviewed and approved by the  University of California, San Diego, in accordance with its conflict of interest  policies.\n",
      "EDAT- 2020/09/16 06:00\n",
      "MHDA- 2021/07/08 06:00\n",
      "CRDT- 2020/09/15 05:40\n",
      "PHST- 2020/04/24 00:00 [received]\n",
      "PHST- 2020/07/27 00:00 [revised]\n",
      "PHST- 2020/08/13 00:00 [accepted]\n",
      "PHST- 2020/09/16 06:00 [pubmed]\n",
      "PHST- 2021/07/08 06:00 [medline]\n",
      "PHST- 2020/09/15 05:40 [entrez]\n",
      "AID - S0968-0004(20)30205-X [pii]\n",
      "AID - 10.1016/j.tibs.2020.08.008 [doi]\n",
      "PST - ppublish\n",
      "SO  - Trends Biochem Sci. 2021 Jan;46(1):51-63. doi: 10.1016/j.tibs.2020.08.008. Epub 2020  Sep 11.\n",
      "\n",
      "PMID- 33826908\n",
      "OWN - NLM\n",
      "STAT- MEDLINE\n",
      "DCOM- 20211020\n",
      "LR  - 20211020\n",
      "IS  - 1097-4172 (Electronic)\n",
      "IS  - 0092-8674 (Linking)\n",
      "VI  - 184\n",
      "IP  - 8\n",
      "DP  - 2021 Apr 15\n",
      "TI  - Bioelectric signaling: Reprogrammable circuits underlying embryogenesis,  regeneration, and cancer.\n",
      "PG  - 1971-1989\n",
      "LID - S0092-8674(21)00223-3 [pii]\n",
      "LID - 10.1016/j.cell.2021.02.034 [doi]\n",
      "AB  - How are individual cell behaviors coordinated toward invariant large-scale  anatomical outcomes in development and regeneration despite unpredictable  perturbations? Endogenous distributions of membrane potentials, produced by ion  channels and gap junctions, are present across all tissues. These bioelectrical  networks process morphogenetic information that controls gene expression, enabling  cell collectives to make decisions about large-scale growth and form. Recent  progress in the analysis and computational modeling of developmental bioelectric  circuits and channelopathies reveals how cellular collectives cooperate toward  organ-level structural order. These advances suggest a roadmap for exploiting  bioelectric signaling for interventions addressing development\n"
     ]
    }
   ],
   "source": [
    "#imprimo con el cambio afectado\n",
    "print (ciencia[:4000])"
   ]
  },
  {
   "cell_type": "code",
   "execution_count": 90,
   "id": "d1f08b1a",
   "metadata": {},
   "outputs": [],
   "source": [
    "text= re.findall (r'AD.*\\n', ciencia)"
   ]
  },
  {
   "cell_type": "code",
   "execution_count": 91,
   "id": "a9c19ecd",
   "metadata": {},
   "outputs": [
    {
     "name": "stdout",
     "output_type": "stream",
     "text": [
      "['AD  - Immune Square Inc, Daegu, Republic of Korea.\\n', 'AD  - Korea Institute of Science and Technology Information (KISTI), Daejeon, Republic of  Korea.\\n', 'AD  - Graduate School of Medical Science and Engineering (GSMSE), Korea Advanced Institute  of Science and Technology (KAIST), Daejeon, Republic of Korea.\\n', 'AD  - Department of Anatomy, School of Medicine, Kyungpook National University, Daegu,  Republic of Korea.\\n', 'AD  - Immune Square Inc, Daegu, Republic of Korea.\\n', 'AD  - Korea Institute of Science and Technology Information (KISTI), Daejeon, Republic of  Korea.\\n', 'AD  - Department of Anatomy, School of Medicine, Kyungpook National University, Daegu,  Republic of Korea.\\n', 'AD  - Immune Square Inc, Daegu, Republic of Korea.\\n', 'AD  - Graduate School of Medical Science and Engineering (GSMSE), Korea Advanced Institute  of Science and Technology (KAIST), Daejeon, Republic of Korea.\\n', 'AD  - Graduate School of Medical Science and Engineering (GSMSE), Korea Advanced Institute  of Science and Technology (KAIST), Daejeon, Republic of Korea.\\n', 'AD  - Department of Anatomy, School of Medicine, Kyungpook National University, Daegu,  Republic of Korea.\\n', 'AD  - Department of Anatomy, School of Medicine, Kyungpook National University, Daegu,  Republic of Korea.\\n', 'AD  - Department of Anatomy, School of Medicine, Kyungpook National University, Daegu,  Republic of Korea.\\n', 'AD  - Graduate School of Medical Science and Engineering (GSMSE), Korea Advanced Institute  of Science and Technology (KAIST), Daejeon, Republic of Korea.\\n', 'AD  - Graduate School of Medical Science and Engineering (GSMSE), Korea Advanced Institute  of Science and Technology (KAIST), Daejeon, Republic of Korea.\\n', 'AD  - Graduate School of Medical Science and Engineering (GSMSE), Korea Advanced Institute  of Science and Technology (KAIST), Daejeon, Republic of Korea.\\n', 'AD  - Graduate School of Medical Science and Engineering (GSMSE), Korea Advanced Institute  of Science and Technology (KAIST), Daejeon, Republic of Korea.\\n', 'AD  - GENOME INSIGHT Inc, Daejeon, Republic of Korea.\\n', 'AD  - Department of Medical Informatics, College of Medicine, Catholic University of  Korea, Seoul, Republic of Korea.\\n', 'AD  - Department of Immunology, School of Medicine, Kyungpook National University, Daegu,  Republic of Korea.\\n', 'AD  - Department of Anatomy, School of Medicine, Kyungpook National University, Daegu,  Republic of Korea.\\n', 'AD  - Department of Pathology, Kyungpook National University Chilgok Hospital, School of  Medicine, Kyungpook National University, Daegu, Republic of Korea.\\n', 'AD  - Department of Anatomy, School of Medicine, Kyungpook National University, Daegu,  Republic of Korea. ohjiwon@knu.ac.kr.\\n', 'AD  - Immune Square Inc, Daegu, Republic of Korea. ohjiwon@knu.ac.kr.\\n', 'AD  - Biomedical Research Institute, Kyungpook National University Hospital, Daegu,  Republic of Korea. ohjiwon@knu.ac.kr.\\n', 'AD  - Graduate School of Medical Science and Engineering (GSMSE), Korea Advanced Institute  of Science and Technology (KAIST), Daejeon, Republic of Korea. ysju@kaist.ac.kr.\\n', 'AD  - GENOME INSIGHT Inc, Daejeon, Republic of Korea. ysju@kaist.ac.kr.\\n', 'AD  - Department of Physiology, Development and Neuroscience, Mammalian Embryo and Stem  Cell Group, University of Cambridge, Cambridge, UK.\\n', 'AD  - Babraham Institute, Babraham Research Campus, Cambridge, UK.\\n', 'AD  - Wellcome Sanger Institute, Hinxton, UK.\\n']\n"
     ]
    }
   ],
   "source": [
    "print (text[40:70])"
   ]
  },
  {
   "cell_type": "code",
   "execution_count": 92,
   "id": "3de5f546",
   "metadata": {},
   "outputs": [
    {
     "name": "stdout",
     "output_type": "stream",
     "text": [
      "['AD  - Immune Square Inc, Daegu, Republic of Korea.\\n', 'AD  - Korea Institute of Science and Technology Information (KISTI), Daejeon, Republic of  Korea.\\n', 'AD  - Graduate School of Medical Science and Engineering (GSMSE), Korea Advanced Institute  of Science and Technology (KAIST), Daejeon, Republic of Korea.\\n', 'AD  - Department of Anatomy, School of Medicine, Kyungpook National University, Daegu,  Republic of Korea.\\n', 'AD  - Immune Square Inc, Daegu, Republic of Korea.\\n', 'AD  - Korea Institute of Science and Technology Information (KISTI), Daejeon, Republic of  Korea.\\n', 'AD  - Department of Anatomy, School of Medicine, Kyungpook National University, Daegu,  Republic of Korea.\\n', 'AD  - Immune Square Inc, Daegu, Republic of Korea.\\n', 'AD  - Graduate School of Medical Science and Engineering (GSMSE), Korea Advanced Institute  of Science and Technology (KAIST), Daejeon, Republic of Korea.\\n', 'AD  - Graduate School of Medical Science and Engineering (GSMSE), Korea Advanced Institute  of Science and Technology (KAIST), Daejeon, Republic of Korea.\\n', 'AD  - Department of Anatomy, School of Medicine, Kyungpook National University, Daegu,  Republic of Korea.\\n', 'AD  - Department of Anatomy, School of Medicine, Kyungpook National University, Daegu,  Republic of Korea.\\n', 'AD  - Department of Anatomy, School of Medicine, Kyungpook National University, Daegu,  Republic of Korea.\\n', 'AD  - Graduate School of Medical Science and Engineering (GSMSE), Korea Advanced Institute  of Science and Technology (KAIST), Daejeon, Republic of Korea.\\n', 'AD  - Graduate School of Medical Science and Engineering (GSMSE), Korea Advanced Institute  of Science and Technology (KAIST), Daejeon, Republic of Korea.\\n', 'AD  - Graduate School of Medical Science and Engineering (GSMSE), Korea Advanced Institute  of Science and Technology (KAIST), Daejeon, Republic of Korea.\\n', 'AD  - Graduate School of Medical Science and Engineering (GSMSE), Korea Advanced Institute  of Science and Technology (KAIST), Daejeon, Republic of Korea.\\n', 'AD  - GENOME INSIGHT Inc, Daejeon, Republic of Korea.\\n', 'AD  - Department of Medical Informatics, College of Medicine, Catholic University of  Korea, Seoul, Republic of Korea.\\n', 'AD  - Department of Immunology, School of Medicine, Kyungpook National University, Daegu,  Republic of Korea.\\n', 'AD  - Department of Anatomy, School of Medicine, Kyungpook National University, Daegu,  Republic of Korea.\\n', 'AD  - Department of Pathology, Kyungpook National University Chilgok Hospital, School of  Medicine, Kyungpook National University, Daegu, Republic of Korea.\\n', 'AD  - Department of Anatomy, School of Medicine, Kyungpook National University, Daegu,  Republic of Korea..\\n', 'AD  - Immune Square Inc, Daegu, Republic of Korea..\\n', 'AD  - Biomedical Research Institute, Kyungpook National University Hospital, Daegu,  Republic of Korea..\\n', 'AD  - Graduate School of Medical Science and Engineering (GSMSE), Korea Advanced Institute  of Science and Technology (KAIST), Daejeon, Republic of Korea..\\n', 'AD  - GENOME INSIGHT Inc, Daejeon, Republic of Korea..\\n', 'AD  - Department of Physiology, Development and Neuroscience, Mammalian Embryo and Stem  Cell Group, University of Cambridge, Cambridge, UK.\\n', 'AD  - Babraham Institute, Babraham Research Campus, Cambridge, UK.\\n', 'AD  - Wellcome Sanger Institute, Hinxton, UK.\\n']\n"
     ]
    }
   ],
   "source": [
    "a=0\n",
    "b= len (text)\n",
    "correos = [0]*b\n",
    "for c in text:\n",
    "    bytes(c,encoding=\"utf=8\")\n",
    "    c= re.sub(r'\\s[\\w._%+-]+@[\\w.-]+\\.[a-zA-Z]{2,4}','', c)\n",
    "    correos[a] = (c)\n",
    "    a = a+1\n",
    "print (correos[40:70])"
   ]
  },
  {
   "cell_type": "code",
   "execution_count": 93,
   "id": "3001afc4",
   "metadata": {},
   "outputs": [
    {
     "name": "stdout",
     "output_type": "stream",
     "text": [
      "[' Republic of Korea.\\n', ' Republic of  Korea.\\n', ' Republic of Korea.\\n', '  Republic of Korea.\\n', ' Republic of Korea.\\n', ' Republic of  Korea.\\n', '  Republic of Korea.\\n', ' Republic of Korea.\\n', ' Republic of Korea.\\n', ' Republic of Korea.\\n', '  Republic of Korea.\\n', '  Republic of Korea.\\n', '  Republic of Korea.\\n', ' Republic of Korea.\\n', ' Republic of Korea.\\n', ' Republic of Korea.\\n', ' Republic of Korea.\\n', ' Republic of Korea.\\n', ' Republic of Korea.\\n', '  Republic of Korea.\\n', '  Republic of Korea.\\n', ' Republic of Korea.\\n', '  Republic of Korea..\\n', ' Republic of Korea..\\n', '  Republic of Korea..\\n', ' Republic of Korea..\\n', ' Republic of Korea..\\n', ' UK.\\n', ' UK.\\n', ' UK.\\n']\n"
     ]
    }
   ],
   "source": [
    "e= len (correos)\n",
    "f= 0 \n",
    "AD= [0]*e\n",
    "for j in correos:\n",
    "    bytes(j, encoding=\"utf8\")\n",
    "    sa = re.sub(r'\\s+[Eceinlort]{10}\\s+[aders]{7}.*','',j)\n",
    "    ADs= re.sub (r'.*\\,','',sa)\n",
    "    AD[f] = ADs\n",
    "    f= f+1\n",
    "print (AD[40:70])"
   ]
  },
  {
   "cell_type": "code",
   "execution_count": 94,
   "id": "b243760d",
   "metadata": {},
   "outputs": [
    {
     "name": "stdout",
     "output_type": "stream",
     "text": [
      "[',Republic of Korea.\\n', ',Republic of,Korea.\\n', ',Republic of Korea.\\n', ',Republic of Korea.\\n', ',Republic of Korea.\\n', ',Republic of,Korea.\\n', ',Republic of Korea.\\n', ',Republic of Korea.\\n', ',Republic of Korea.\\n', ',Republic of Korea.\\n', ',Republic of Korea.\\n', ',Republic of Korea.\\n', ',Republic of Korea.\\n', ',Republic of Korea.\\n', ',Republic of Korea.\\n', ',Republic of Korea.\\n', ',Republic of Korea.\\n', ',Republic of Korea.\\n', ',Republic of Korea.\\n', ',Republic of Korea.\\n', ',Republic of Korea.\\n', ',Republic of Korea.\\n', ',Republic of Korea.\\n', ',Republic of Korea.\\n', ',Republic of Korea.\\n', ',Republic of Korea.\\n', ',Republic of Korea.\\n', ',UK.\\n', ',UK.\\n', ',UK.\\n']\n"
     ]
    }
   ],
   "source": [
    "g= len (AD)\n",
    "h= 0 \n",
    "pais= [0]*g\n",
    "for t in AD:\n",
    "    bytes(t, encoding=\"utf8\")\n",
    "    la = re.sub(r'\\,\\s','',t)\n",
    "    las= re.sub (r'\\s\\s',',',la)\n",
    "    lash= re.sub (r'\\.\\.','.',las)\n",
    "    ms= re.sub(r'^\\s',',',lash)\n",
    "    pais[h] = ms\n",
    "    h= h+1\n",
    "print (pais[40:70])"
   ]
  },
  {
   "cell_type": "code",
   "execution_count": 95,
   "id": "0c34872c",
   "metadata": {},
   "outputs": [
    {
     "name": "stdout",
     "output_type": "stream",
     "text": [
      "[',Republic of Korea.', ',Republic of,Korea.', ',Republic of Korea.', ',Republic of Korea.', ',Republic of Korea.', ',Republic of,Korea.', ',Republic of Korea.', ',Republic of Korea.', ',Republic of Korea.', ',Republic of Korea.', ',Republic of Korea.', ',Republic of Korea.', ',Republic of Korea.', ',Republic of Korea.', ',Republic of Korea.', ',Republic of Korea.', ',Republic of Korea.', ',Republic of Korea.', ',Republic of Korea.', ',Republic of Korea.', ',Republic of Korea.', ',Republic of Korea.', ',Republic of Korea.', ',Republic of Korea.', ',Republic of Korea.', ',Republic of Korea.', ',Republic of Korea.', ',UK.', ',UK.', ',UK.']\n"
     ]
    }
   ],
   "source": [
    "ñ= len (pais)\n",
    "paises= []\n",
    "for n in pais:\n",
    "    bytes(n, encoding=\"utf8\")\n",
    "    a= re.findall(r'\\,.*\\.',n)\n",
    "    paises.extend(a)\n",
    "print (paises[40:70])\n",
    "    "
   ]
  },
  {
   "cell_type": "code",
   "execution_count": 96,
   "id": "c7d0e061",
   "metadata": {},
   "outputs": [
    {
     "name": "stdout",
     "output_type": "stream",
     "text": [
      "['UK', 'UK', 'UK', 'India', 'India', 'India', 'UK', 'USA', 'USA', 'UK', 'UK', 'Canada', 'Canada', 'Canada', 'France', 'Iceland', 'Iceland', 'Iceland', 'Iceland', 'Iceland', 'Iceland', 'Iceland', 'Iceland', 'Iceland', 'Iceland', 'Iceland', 'Iceland', 'Iceland', 'Iceland', 'Iceland']\n"
     ]
    }
   ],
   "source": [
    "s= len (moni)\n",
    "v= 0 \n",
    "pases= [0]*s\n",
    "for ele in moni:\n",
    "    bytes(ele, encoding=\"utf8\")\n",
    "    al = re.sub(r'\\,','',ele)\n",
    "    zt= re.sub (r'\\.','',al)   \n",
    "    pases[v] = zt\n",
    "    v= v+1\n",
    "print (sinml[40:70])"
   ]
  },
  {
   "cell_type": "code",
   "execution_count": 103,
   "id": "38a195d2",
   "metadata": {},
   "outputs": [
    {
     "name": "stdout",
     "output_type": "stream",
     "text": [
      "[0, 0, 0, 0, 0, 0, 0, 0, 0, 0, 0, 0, 0, 0, 0, 0, 0, 0, 0, 0, 0, 0, 0, 0, 0, 0, 0, 0, 0, 0, 0, 0, 0, 0, 0, 0, 0, 0, 0, 0, 0, 0, 0, 0, 0, 0, 0, 0, 0, 0, 0, 0, 0, 0, 0, 0, 0, 0, 0, 0, 0, 0, 0, 0, 0, 0, 0, 0, 0, 0, 0, 0, 0, 0, 0, 0, 0, 0, 0, 0, 0, 0, 0, 0, 0, 0, 0, 0, 0, 0, 0, 0, 0, 0, 0, 0, 0, 0, 0, 0, 0, 0, 0, 0, 0, 0, 0, 0, 0, 0, 0, 0, 0, 0, 0, 0, 0, 0, 0, 0, 0, 0, 0, 0, 0, 0, 0, 0, 0, 0, 0, 0, 0, 0, 0, 0, 0, 0, 0, 0, 0, 0, 0, 0, 0, 0, 0, 0, 0, 0, 0, 0, 0, 0, 0, 0, 0, 0, 0, 0, 0, 0, 0, 0, 0, 0, 0, 0, 0, 0, 0, 0, 0, 0, 0, 0, 0, 0, 0, 0, 0, 0, 0, 0, 0, 0, 0, 0, 0, 0, 0, 0, 0, 0, 0, 0, 0, 0, 0, 0, 0, 0, 0, 0, 0, 0, 0, 0, 0, 0, 0, 0, 0, 0, 0, 0, 0, 0, 0, 0, 0, 0, 0, 0, 0, 0, 0, 0, 0, 0, 0, 0, 0, 0, 0, 0, 0, 0, 0, 0, 0, 0, 0, 0, 0, 0, 0, 0, 0, 0, 0, 0, 0, 0, 0, 0, 0, 0, 0, 0, 0, 0, 0, 0, 0, 0, 0, 0, 0, 0, 0, 0, 0, 0, 0, 0, 0, 0, 0, 0, 0, 0, 0, 0, 0, 0, 0, 0, 0, 0, 0, 0, 0, 0, 0, 0, 0, 0, 0, 0, 0, 0, 0, 0, 0, 0, 0, 0, 0, 0, 0, 0, 0, 0, 0, 0, 0, 0, 0, 0, 0, 0, 0, 0, 0, 0, 0, 0, 0, 0, 0, 0, 0, 0, 0, 0, 0, 0, 0, 0, 0, 0, 0, 0, 0, 0, 0, 0, 0, 0, 0, 0, 0, 0, 0, 0, 0, 0, 0, 0, 0, 0, 0, 0, 0, 0, 0, 0, 0, 0, 0, 0, 0, 0, 0, 0, 0, 0, 0, 0, 0, 0, 0, 0, 0, 0, 0, 0, 0, 0, 0, 0, 0, 0, 0, 0, 0, 0, 0, 0, 0, 0, 0, 0, 0, 0, 0, 0, 0, 0, 0, 0, 0, 0, 0, 0, 0, 0, 0, 0, 0, 0, 0, 0, 0, 0, 0, 0, 0, 0, 0, 0, 0, 0, 0, 0, 0, 0, 0, 0, 0, 0, 0, 0, 0, 0, 0, 0, 0, 0, 0, 0, 0, 0, 0, 0, 0, 0, 0, 0, 0, 0, 0, 0, 0, 0, 0, 0, 0, 0, 0, 0, 0, 0, 0, 0, 0, 0, 0, 0, 0, 0, 0, 0, 0, 0, 0, 0, 0, 0]\n"
     ]
    }
   ],
   "source": [
    "x= pases\n",
    "l=['AD','AE','AF','AG','AI','AL','AM','AN','AO','AQ','AR','AS','AT','AU','AW','AZ','BA','BB','BD','BE',\n",
    "   'BF','BG','BH','BI','BJ','BM','BN','BO','BR','BS','BT','BV','BW','BY','BZ','CA','CC','CD','CF','CG',\n",
    "   'CH','CI','CK','CL','CM','CN','CO','CR','CU','CV','CX','CY','CZ','DE','DJ','K','DM','DO','DZ','EC',\n",
    "   'EE','EG','EH','ER','ES','ET','FI','FJ','FK','FM','FO','FR','GA','GB','GD','GE','GF','GG','GH',\n",
    "   'GI','GL','GM','GN','GP','GQ','GR','GS','GT','GU','GW','GY','GZ','HK','HM','HN','HR','HT','HU',\n",
    "   'ID','IE','IL','IM','IN','IO','IQ','IR','IS','IT','JE','JM','JO','JP','KE','KG','KH','KI','KM','KN',\n",
    "   'KP','KR','KW','KY','KZ','LA','LB','LC','LI','LK','LR','LS','LT','LU','LV','LY','MA','MC','MD','ME',\n",
    "   'MG','MH','MK','ML','MM','MN','MO','MP','MQ','MR','MS','MT','MU','MV','MW','MX','MY','MZ','NA','NC',\n",
    "   'NE','NF','NG','NI','NL','NO','NP','NR','NU','NZ','OM','PA','PE','PF','PG','PH','PK','PL','PM','PN',\n",
    "   'PR','PS','PT','PW','PY','QA','RE','RO','RS','RU','RW','SA','SB','SC','SD','SE','SG','SH','SI','SJ',\n",
    "   'SK','SL','SM','SN','SO','SR','ST','SV','SY','SZ','TC','TD','TF','TG','TH','TJ','TK','TL','TM','TN',\n",
    "   'TO','TR','TT','TV','TW','TZ','UA','UG','UM','US','UY','UZ','VA','VC','VE','VG','VI','VN','VU','WF',\n",
    "   'WS','XK','YE','YT','ZA','ZM','ZW', 'Andorra','United Arab Emirates','Afghanistan',\n",
    "   'Antigua and Barbuda','Anguilla','Albania','Armenia','Netherlands Antilles','Angola',\n",
    "   'Antarctica','Argentina','American Samoa','Austria','Australia','Aruba','Azerbaijan',\n",
    "   'Bosnia and Herzegovina','Barbados','Bangladesh','Belgium','Burkina Faso','Bulgaria',\n",
    "   'Bahrain','Burundi','Benin','Bermuda','Brunei','Bolivia','Brazil','Bahamas','Bhutan',\n",
    "   'Bouvet Island','Botswana','Belarus','Belize','Canada','Cocos [Keeling] Islands',\n",
    "   'Congo [DRC]','Central African Republic','Congo [Republic]','Switzerland','Côte dIvoire',\n",
    "   'Cook Islands','Chile','Cameroon','China','Colombia','Costa Rica','Cuba','Cape Verde',\n",
    "   'Christmas Island','Cyprus','Czech Republic','Germany','Djibouti','Denmark','Dominica',\n",
    "   'Dominican Republic','Algeria','Ecuador','Estonia','Egypt','Western Sahara','Eritrea',\n",
    "   'Spain','Ethiopia','Finland','Fiji','Falkland Islands [Islas Malvinas]','Micronesia',\n",
    "   'Faroe Islands','France','Gabon','United Kingdom','Grenada','Georgia','French Guiana',\n",
    "   'Guernsey','Ghana','Gibraltar','Greenland','Gambia','Guinea','Guadeloupe','Equatorial Guinea',\n",
    "   'Greece','South Georgia and the South Sandwich Islands','Guatemala','Guam','Guinea-Bissau',\n",
    "   'Guyana','Gaza Strip','Hong Kong','Heard Island and McDonald Islands','Honduras','Croatia','Haiti','Hungary','Indonesia','Ireland','Israel','Isle of Man','India',\n",
    "   'British Indian Ocean Territory','Iraq','Iran','Iceland','Italy','Jersey','Jamaica','Jordan',\n",
    "   'Japan','Kenya','Kyrgyzstan','Cambodia','Kiribati','Comoros','Saint Kitts and Nevis',\n",
    "   'North Korea','South Korea','Kuwait','Cayman Islands','Kazakhstan','Laos','Lebanon','Saint Lucia',\n",
    "   'Liechtenstein','Sri Lanka','Liberia','Lesotho','Lithuania','Luxembourg','Latvia','Libya','Morocco',\n",
    "   'Monaco','Moldova','Montenegro','Madagascar','Marshall Islands','Macedonia [FYROM]','Mali',\n",
    "   'Myanmar [Burma]','Mongolia','Macau','Northern Mariana Islands','Martinique','Mauritania',\n",
    "   'Montserrat','Malta','Mauritius','Maldives','Malawi','Mexico','Malaysia','Mozambique',\n",
    "   'Namibia','New Caledonia','Niger','Norfolk Island','Nigeria','Nicaragua','Netherlands',\n",
    "   'Norway','Nepal','Nauru','Niue','New Zealand','Oman','Panama','Peru','French Polynesia',\n",
    "   'Papua New Guinea','Philippines','Pakistan','Poland','Saint Pierre and Miquelon',\n",
    "   'Pitcairn Islands','Puerto Rico','Palestinian Territories','Portugal','Palau','Paraguay',\n",
    "   'Qatar','Réunion','Romania','Serbia','Russia','Rwanda','Saudi Arabia','Solomon Islands',\n",
    "   'Seychelles','Sudan','Sweden','Singapore','Saint Helena','Slovenia','Svalbard and Jan Mayen',\n",
    "   'Slovakia','Sierra Leone','San Marino','Senegal','Somalia','Suriname','São Tomé and Príncipe',\n",
    "   'El Salvador','Syria','Swaziland','Turks and Caicos Islands','Chad','French Southern Territories','Togo','Thailand','Tajikistan','Tokelau','Timor-Leste','Turkmenistan','Tunisia','Tonga','Turkey','Trinidad and Tobago','Tuvalu','Taiwan','Tanzania','Ukraine','Uganda','U.S. Minor Outlying Islands','United States','Uruguay','Uzbekistan','Vatican City','Saint Vincent and the Grenadines','Venezuela','British Virgin Islands','U.S. Virgin Islands','Vietnam','Vanuatu','Wallis and Futuna','Samoa','Kosovo','Yemen','Mayotte','South Africa','Zambia','Zimbabwe']\n",
    "i=len(l)\n",
    "z=[0]*i\n",
    "k=0\n",
    "for elem in l:\n",
    "    d=0\n",
    "    for comp in x:\n",
    "        if elem == str(comp):\n",
    "            d=d+1\n",
    "    h[k]=d\n",
    "    k=k+1\n",
    "print (z)"
   ]
  },
  {
   "cell_type": "code",
   "execution_count": 104,
   "id": "4753bd8b",
   "metadata": {},
   "outputs": [
    {
     "name": "stdout",
     "output_type": "stream",
     "text": [
      "    Siglas y Paises  Repeticiones\n",
      "0                AD             0\n",
      "1                AE             0\n",
      "2                AF             0\n",
      "3                AG             0\n",
      "4                AI             0\n",
      "..              ...           ...\n",
      "485           Yemen             0\n",
      "486         Mayotte             0\n",
      "487    South Africa             0\n",
      "488          Zambia             0\n",
      "489        Zimbabwe             0\n",
      "\n",
      "[490 rows x 2 columns]\n"
     ]
    }
   ],
   "source": [
    "df2 = pd.DataFrame({'Siglas y Paises' : l,\n",
    "                    'Repeticiones' : z})\n",
    "print (df2)"
   ]
  },
  {
   "cell_type": "code",
   "execution_count": 105,
   "id": "cf623fd7",
   "metadata": {},
   "outputs": [
    {
     "data": {
      "text/html": [
       "<div>\n",
       "<style scoped>\n",
       "    .dataframe tbody tr th:only-of-type {\n",
       "        vertical-align: middle;\n",
       "    }\n",
       "\n",
       "    .dataframe tbody tr th {\n",
       "        vertical-align: top;\n",
       "    }\n",
       "\n",
       "    .dataframe thead th {\n",
       "        text-align: right;\n",
       "    }\n",
       "</style>\n",
       "<table border=\"1\" class=\"dataframe\">\n",
       "  <thead>\n",
       "    <tr style=\"text-align: right;\">\n",
       "      <th></th>\n",
       "      <th>Siglas y Paises</th>\n",
       "      <th>Repeticiones</th>\n",
       "    </tr>\n",
       "  </thead>\n",
       "  <tbody>\n",
       "    <tr>\n",
       "      <th>0</th>\n",
       "      <td>AD</td>\n",
       "      <td>0</td>\n",
       "    </tr>\n",
       "    <tr>\n",
       "      <th>1</th>\n",
       "      <td>AE</td>\n",
       "      <td>0</td>\n",
       "    </tr>\n",
       "    <tr>\n",
       "      <th>2</th>\n",
       "      <td>AF</td>\n",
       "      <td>0</td>\n",
       "    </tr>\n",
       "    <tr>\n",
       "      <th>3</th>\n",
       "      <td>AG</td>\n",
       "      <td>0</td>\n",
       "    </tr>\n",
       "    <tr>\n",
       "      <th>4</th>\n",
       "      <td>AI</td>\n",
       "      <td>0</td>\n",
       "    </tr>\n",
       "    <tr>\n",
       "      <th>5</th>\n",
       "      <td>AL</td>\n",
       "      <td>0</td>\n",
       "    </tr>\n",
       "    <tr>\n",
       "      <th>6</th>\n",
       "      <td>AM</td>\n",
       "      <td>0</td>\n",
       "    </tr>\n",
       "    <tr>\n",
       "      <th>7</th>\n",
       "      <td>AN</td>\n",
       "      <td>0</td>\n",
       "    </tr>\n",
       "    <tr>\n",
       "      <th>8</th>\n",
       "      <td>AO</td>\n",
       "      <td>0</td>\n",
       "    </tr>\n",
       "    <tr>\n",
       "      <th>9</th>\n",
       "      <td>AQ</td>\n",
       "      <td>0</td>\n",
       "    </tr>\n",
       "    <tr>\n",
       "      <th>10</th>\n",
       "      <td>AR</td>\n",
       "      <td>0</td>\n",
       "    </tr>\n",
       "    <tr>\n",
       "      <th>11</th>\n",
       "      <td>AS</td>\n",
       "      <td>0</td>\n",
       "    </tr>\n",
       "    <tr>\n",
       "      <th>12</th>\n",
       "      <td>AT</td>\n",
       "      <td>0</td>\n",
       "    </tr>\n",
       "    <tr>\n",
       "      <th>13</th>\n",
       "      <td>AU</td>\n",
       "      <td>0</td>\n",
       "    </tr>\n",
       "    <tr>\n",
       "      <th>14</th>\n",
       "      <td>AW</td>\n",
       "      <td>0</td>\n",
       "    </tr>\n",
       "    <tr>\n",
       "      <th>15</th>\n",
       "      <td>AZ</td>\n",
       "      <td>0</td>\n",
       "    </tr>\n",
       "    <tr>\n",
       "      <th>16</th>\n",
       "      <td>BA</td>\n",
       "      <td>0</td>\n",
       "    </tr>\n",
       "    <tr>\n",
       "      <th>17</th>\n",
       "      <td>BB</td>\n",
       "      <td>0</td>\n",
       "    </tr>\n",
       "    <tr>\n",
       "      <th>18</th>\n",
       "      <td>BD</td>\n",
       "      <td>0</td>\n",
       "    </tr>\n",
       "    <tr>\n",
       "      <th>19</th>\n",
       "      <td>BE</td>\n",
       "      <td>0</td>\n",
       "    </tr>\n",
       "  </tbody>\n",
       "</table>\n",
       "</div>"
      ],
      "text/plain": [
       "   Siglas y Paises  Repeticiones\n",
       "0               AD             0\n",
       "1               AE             0\n",
       "2               AF             0\n",
       "3               AG             0\n",
       "4               AI             0\n",
       "5               AL             0\n",
       "6               AM             0\n",
       "7               AN             0\n",
       "8               AO             0\n",
       "9               AQ             0\n",
       "10              AR             0\n",
       "11              AS             0\n",
       "12              AT             0\n",
       "13              AU             0\n",
       "14              AW             0\n",
       "15              AZ             0\n",
       "16              BA             0\n",
       "17              BB             0\n",
       "18              BD             0\n",
       "19              BE             0"
      ]
     },
     "execution_count": 105,
     "metadata": {},
     "output_type": "execute_result"
    }
   ],
   "source": [
    "df2.head (20)"
   ]
  }
 ],
 "metadata": {
  "kernelspec": {
   "display_name": "Python 3",
   "language": "python",
   "name": "python3"
  },
  "language_info": {
   "codemirror_mode": {
    "name": "ipython",
    "version": 3
   },
   "file_extension": ".py",
   "mimetype": "text/x-python",
   "name": "python",
   "nbconvert_exporter": "python",
   "pygments_lexer": "ipython3",
   "version": "3.8.8"
  }
 },
 "nbformat": 4,
 "nbformat_minor": 5
}
